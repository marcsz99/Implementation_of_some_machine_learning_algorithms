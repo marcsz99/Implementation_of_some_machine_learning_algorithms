{
 "cells": [
  {
   "cell_type": "code",
   "execution_count": 3,
   "id": "868926be",
   "metadata": {},
   "outputs": [],
   "source": [
    "import numpy as np\n",
    "import math"
   ]
  },
  {
   "cell_type": "code",
   "execution_count": 4,
   "id": "bf62f46a",
   "metadata": {},
   "outputs": [],
   "source": [
    "def euclid_dist(a,b):\n",
    "    \"\"\"\n",
    "    Takes two vectors a and b of equal length.\n",
    "    Outputs the Euclidean distance between a and b. \n",
    "    \"\"\"\n",
    "    \n",
    "    sq_dist = 0\n",
    "    l = a.size\n",
    "    \n",
    "    for i in range(l):\n",
    "        sq_dist += (a[i] - b[i])**2\n",
    "    \n",
    "    e_dist = np.sqrt(sq_dist)\n",
    "    return e_dist\n",
    "    "
   ]
  },
  {
   "cell_type": "code",
   "execution_count": 5,
   "id": "b2249129",
   "metadata": {
    "scrolled": true
   },
   "outputs": [
    {
     "name": "stdout",
     "output_type": "stream",
     "text": [
      "1.0\n"
     ]
    }
   ],
   "source": [
    "a = np.array([2,1,1])\n",
    "b = np.array([1,1,1])\n",
    "print(euclid_dist(a,b))"
   ]
  },
  {
   "cell_type": "code",
   "execution_count": 6,
   "id": "11fe1d93",
   "metadata": {},
   "outputs": [],
   "source": [
    "def knn(sample, xtrain, ytrain, n):\n",
    "    \"\"\"\n",
    "     Input\n",
    "\n",
    "     Sample: a 1*c array where c is equal to the number of features in the given dataset.\n",
    "     xtrain: a d*c array where d is equal to the number of training samples.\n",
    "     ytrain: a 1*d array containg all the lables for xtrain.\n",
    "     n: The number of nearest neighbours that predictions are made from\n",
    "     \n",
    "     Output\n",
    "     \n",
    "     The predicted label for sample using the knn method given the training dataset and n.\n",
    "\n",
    "    \"\"\"\n",
    "    ###  Calculate euclidian distance between sample and all samples in xtrain.\n",
    "\n",
    "    l = np.size(ytrain)\n",
    "    euclid = np.zeros(l)\n",
    "    for i in range(l):\n",
    "        euclid[i] = euclid_dist(sample,xtrain[i])\n",
    "        \n",
    "    ###  Check if n = 1. If n = 1 then unnecessary code my be bypassed increasing computational effciency.\n",
    "    if n == 1:\n",
    "        index_min = np.argmin(euclid)\n",
    "        pred = ytrain[index_min]\n",
    "    else:\n",
    "        ###  Compute the neareat n lables to sample and output most common as prediction.\n",
    "        near_lab = np.zeros(n,dtype = int)\n",
    "        \n",
    "        for j in range(n):\n",
    "            #Find min euclid distance, then find its label, then min euclid distance with inf. Reapeat process to find n \n",
    "            #nearest lables. \n",
    "            near_lab_index = np.argmin(euclid)\n",
    "            near_lab[j] = ytrain[near_lab_index]\n",
    "            euclid[near_lab_index] = math.inf\n",
    "        \n",
    "        ### Now find the mode of nearest labels to obtain prediction\n",
    "        vals, counts = np.unique(near_lab, return_counts=True)\n",
    "        mode_value = np.argwhere(counts == np.max(counts))\n",
    "        mode = vals[mode_value]\n",
    "        \n",
    "        ### Sometimes there may be more than 1 modes. This if else statments deals with this by assigning a mode randomly to \n",
    "        ### predict if there are.\n",
    "        \n",
    "        if np.size(mode) == 1:\n",
    "            pred = mode\n",
    "        else:\n",
    "            rand = np.random.randint(np.size(mode))\n",
    "            pred = np.array([mode[rand]])\n",
    "        ###Extract single value from array \n",
    "        pred = pred[0,0]\n",
    "    \n",
    "    return pred \n",
    "        \n",
    "        \n",
    "       \n",
    "        "
   ]
  },
  {
   "cell_type": "code",
   "execution_count": 7,
   "id": "a19e4f13",
   "metadata": {},
   "outputs": [],
   "source": [
    "def conformal_predictor(sample, xtrain, ytrain):\n",
    "    \"\"\"\n",
    "     Input\n",
    "\n",
    "     Sample: a 1*c array where c is equal to the number of features in the given dataset.\n",
    "     xtrain: a d*c array where d is equal to the number of training samples.\n",
    "     ytrain: a 1*d array containg all the lables for xtrain.\n",
    "     \n",
    "     Output \n",
    "     \n",
    "     p-values and averge false p-values\n",
    "    \"\"\"\n",
    "    ### Concatenate sample and xtrain\n",
    "    full_sample = xtrain.copy()\n",
    "    full_sample = np.append(xtrain, [sample], axis = 0)\n",
    "    ###Find all the unique labels \n",
    "    uniq_lab = np.unique(ytrain)\n",
    "    \n",
    "    ###Array to store p-values \n",
    "    p_value = np.zeros(uniq_lab.size)\n",
    "    \n",
    "    ###Variable to store label index\n",
    "    label_index = 0 \n",
    "    \n",
    "    for label in uniq_lab:\n",
    "        full_label = ytrain.copy()\n",
    "        full_label = np.append(full_label,label)\n",
    "        full_label = np.array([full_label])\n",
    "        full_s_l = np.concatenate((full_sample,full_label.T),axis = 1)\n",
    "        conformity_score = np.zeros(full_label.size)\n",
    "        #### find distances\n",
    "        for i in range(full_label.size):\n",
    "            current_sample = full_sample[i]\n",
    "            current_label = full_label[0,i]\n",
    "        ### distance to neareast sample where class is diffrent to current label\n",
    "        ### first find all samples that are of a different class\n",
    "        \n",
    "            diff_full_s_l = full_s_l[full_s_l[:,-1] != current_label]\n",
    "            samples_different = diff_full_s_l[:,:-1]\n",
    "            \n",
    "        ### compute all ditances between cuurent sample and samples of a different class \n",
    "            dist_diff = np.zeros(samples_different.shape[0])\n",
    "            for j in range(samples_different.shape[0]):\n",
    "                dist_diff[j] = euclid_dist(current_sample, samples_different[j])\n",
    "            \n",
    "        ### find distance of closest sample of a different class \n",
    "            close_diff = np.min(dist_diff)\n",
    "            \n",
    "        ### Now find all the samples of the same class as current label\n",
    "            same_full_s_l = full_s_l[full_s_l[:,-1] == current_label]\n",
    "            samples_same = same_full_s_l[:,:-1]\n",
    "            \n",
    "        ### compute all distances between current sample and samples of the same class  \n",
    "            dist_same = np.zeros(samples_same.shape[0])\n",
    "            for z in range(samples_same.shape[0]):\n",
    "                dist_same[z] = euclid_dist(current_sample, samples_same[z])\n",
    "            \n",
    "        \n",
    "        ### find distance of closest sample of same class \n",
    "            close_same = np.min(dist_same[dist_same != 0])\n",
    "            \n",
    "        ### with distance to closest sample of nearest and furthest class now calculated the corresponding conformity score\n",
    "        ### can be calculated \n",
    "            conformity_score[i] = close_diff/close_same\n",
    "        \n",
    "    ### Now calculate p value for the postulated label\n",
    "        rank = 0\n",
    "        for n in range(conformity_score.size):\n",
    "            if conformity_score[-1] >= conformity_score[n]:\n",
    "                rank = rank + 1\n",
    "        p_value[label_index] = rank/conformity_score.size\n",
    "        #print('The current label is ' + str(label))\n",
    "        #print('The p_values is: ' + str(p_value[label_index]))\n",
    "        label_index += 1 \n",
    "        \n",
    "    return (list(p_value))\n",
    "\n",
    "            "
   ]
  },
  {
   "cell_type": "code",
   "execution_count": 27,
   "id": "c39bc1ce",
   "metadata": {},
   "outputs": [
    {
     "name": "stdout",
     "output_type": "stream",
     "text": [
      "The predicted label for x based on 1NN is:  1\n",
      "The p-values are:  [0.14285714285714285, 0.8571428571428571]\n"
     ]
    }
   ],
   "source": [
    "###testing conformal preictor and knn on lecture example.\n",
    "\n",
    "x_train = np.array([[0,3],[2,2],[3,3],[-1,1],[-1,-1],[0,1]])\n",
    "y_train = np.array([1,1,1,-1,-1,-1])\n",
    "s = np.array([2,3])\n",
    "\n",
    "print('The predicted label for x based on 1NN is: ', knn(s, x_train, y_train, 1))\n",
    "\n",
    "print('The p-values are: ' ,conformal_predictor(s,x_train,y_train))\n"
   ]
  },
  {
   "cell_type": "code",
   "execution_count": 25,
   "id": "8fd53d6c",
   "metadata": {},
   "outputs": [
    {
     "name": "stdout",
     "output_type": "stream",
     "text": [
      "(112, 4)\n",
      "(38, 4)\n",
      "(112,)\n",
      "(38,)\n"
     ]
    }
   ],
   "source": [
    "from sklearn.datasets import load_iris \n",
    "iris = load_iris()\n",
    "from sklearn.model_selection import train_test_split \n",
    "X_train, X_test, y_train, y_test = train_test_split(iris['data'], iris['target'], random_state=211)\n",
    "\n",
    "##Get the shapes of X_train, X_test, y_train and y_test. This will be useful information in latter analysis \n",
    "print(X_train.shape)\n",
    "print(X_test.shape)\n",
    "print(y_train.shape)\n",
    "print(y_test.shape)"
   ]
  },
  {
   "cell_type": "code",
   "execution_count": 9,
   "id": "ea34138c",
   "metadata": {},
   "outputs": [
    {
     "name": "stdout",
     "output_type": "stream",
     "text": [
      "The error rate for the test set is 0.0.\n"
     ]
    }
   ],
   "source": [
    "#Error rate for 1 nearsest neighbour\n",
    "prediction = np.zeros(X_test.shape[0],dtype = int)\n",
    "for i in range(X_test.shape[0]):\n",
    "    prediction[i] = knn(X_test[i], X_train, y_train, 1)\n",
    "\n",
    "error_rate =  1 - np.mean(prediction == y_test)\n",
    "\n",
    "print('The error rate for the test set is ' + str(error_rate) + '.')\n",
    "##Error rate given as 0% suggesting that 1NN is good algorithm for clasifying different IRIS types. Although the true test \n",
    "## error rate is likely higher than 0.0 as the test set used was relativally small cointaing only 38 samples."
   ]
  },
  {
   "cell_type": "code",
   "execution_count": 10,
   "id": "3757e812",
   "metadata": {},
   "outputs": [
    {
     "name": "stdout",
     "output_type": "stream",
     "text": [
      "[0.         0.         0.         0.         0.         0.\n",
      " 0.         0.02631579 0.         0.        ]\n"
     ]
    }
   ],
   "source": [
    "#Error rates up to 10 nearest neighbours \n",
    "error_rate2 = np.zeros(10)\n",
    "    \n",
    "for j in range(error_rate2.size):\n",
    "    \n",
    "    prediction2 = np.zeros(X_test.shape[0],dtype = int)\n",
    "    \n",
    "    for i in range(X_test.shape[0]):\n",
    "        prediction2[i] = knn(X_test[i], X_train, y_train, j+1)\n",
    "\n",
    "    error_rate2[j] =  1 - np.mean(prediction2 == y_test)\n",
    "\n",
    "print(error_rate2)\n",
    "#Given the error rate is zero for 1NN I don't expect much difference for K > 1. The results seem to enforce my expectation with \n",
    "#all error rates = 0, with the expecation of K = 8 containing only 1 misprediction as 1/38 = 0.0263. \n",
    "#A test set is needed to gain a better understanding of the optimal K to to fit the model with. "
   ]
  },
  {
   "cell_type": "code",
   "execution_count": 11,
   "id": "13fdd959",
   "metadata": {},
   "outputs": [
    {
     "name": "stdout",
     "output_type": "stream",
     "text": [
      "15.729015350341797 seconds\n"
     ]
    }
   ],
   "source": [
    "#get p-values for 1NN conformal predictor for every sample in the X_test set.\n",
    "import time \n",
    "start = time.time()\n",
    "\n",
    "p_vals = list(np.zeros([X_test.shape[0]]))\n",
    "\n",
    "for i in range(len(p_vals)):\n",
    "    p_vals[i] = conformal_predictor(X_test[i], X_train, y_train)\n",
    "\n",
    "print(time.time() - start, 'seconds')\n",
    "#As can be seen here the conformal predictor for 1NN takes a relatively long time to run over the the whole of x_train \n",
    "#so effecinecy improvements are likely possible."
   ]
  },
  {
   "cell_type": "code",
   "execution_count": 12,
   "id": "bbaefb73",
   "metadata": {},
   "outputs": [
    {
     "name": "stdout",
     "output_type": "stream",
     "text": [
      "[[0.008849557522123894, 0.46017699115044247, 0.008849557522123894], [0.017699115044247787, 0.017699115044247787, 0.10619469026548672], [0.8053097345132744, 0.008849557522123894, 0.008849557522123894], [0.6902654867256637, 0.008849557522123894, 0.008849557522123894], [0.008849557522123894, 0.6460176991150443, 0.008849557522123894], [0.7079646017699115, 0.008849557522123894, 0.008849557522123894], [0.008849557522123894, 0.3008849557522124, 0.017699115044247787], [0.008849557522123894, 0.24778761061946902, 0.017699115044247787], [0.008849557522123894, 0.008849557522123894, 0.7168141592920354], [0.008849557522123894, 0.008849557522123894, 0.49557522123893805], [0.8495575221238938, 0.008849557522123894, 0.008849557522123894], [0.6902654867256637, 0.008849557522123894, 0.008849557522123894], [0.008849557522123894, 0.008849557522123894, 0.7522123893805309], [0.008849557522123894, 0.008849557522123894, 0.45132743362831856], [0.008849557522123894, 0.46017699115044247, 0.008849557522123894], [0.008849557522123894, 0.008849557522123894, 0.5486725663716814], [0.008849557522123894, 0.36283185840707965, 0.008849557522123894], [0.008849557522123894, 0.672566371681416, 0.008849557522123894], [0.008849557522123894, 0.008849557522123894, 0.37168141592920356], [0.008849557522123894, 0.008849557522123894, 0.45132743362831856], [0.008849557522123894, 0.18584070796460178, 0.017699115044247787], [0.008849557522123894, 0.7079646017699115, 0.008849557522123894], [0.008849557522123894, 0.19469026548672566, 0.017699115044247787], [0.9557522123893806, 0.008849557522123894, 0.008849557522123894], [0.008849557522123894, 0.07964601769911504, 0.035398230088495575], [0.008849557522123894, 0.008849557522123894, 0.415929203539823], [0.008849557522123894, 0.4424778761061947, 0.008849557522123894], [0.008849557522123894, 0.23893805309734514, 0.02654867256637168], [0.9646017699115044, 0.008849557522123894, 0.008849557522123894], [0.008849557522123894, 0.8053097345132744, 0.008849557522123894], [0.6814159292035398, 0.008849557522123894, 0.008849557522123894], [0.008849557522123894, 0.4690265486725664, 0.008849557522123894], [0.008849557522123894, 0.008849557522123894, 0.415929203539823], [0.008849557522123894, 0.46017699115044247, 0.008849557522123894], [0.008849557522123894, 0.008849557522123894, 0.35398230088495575], [0.008849557522123894, 0.672566371681416, 0.008849557522123894], [0.008849557522123894, 0.008849557522123894, 0.4247787610619469], [0.6548672566371682, 0.008849557522123894, 0.008849557522123894]]\n"
     ]
    }
   ],
   "source": [
    "### Here the p_values for all possible labels for every sample in X_test is printed.   \n",
    "\n",
    "print(p_vals)"
   ]
  },
  {
   "cell_type": "code",
   "execution_count": 11,
   "id": "cc2e34e8",
   "metadata": {},
   "outputs": [
    {
     "name": "stdout",
     "output_type": "stream",
     "text": [
      "The average false p_value is 0.010130414531904984.\n"
     ]
    }
   ],
   "source": [
    "#Get average false p-value from the p value calculated in the above cells.\n",
    "unique_labels = np.unique(y_train)\n",
    "false_p_vals = np.zeros(y_test.size)\n",
    "\n",
    "for i in range(y_test.size):\n",
    "    # Find the label of the sample and then find the p-values which don't have the particular label.\n",
    "    lab_of_index = y_test[i]\n",
    "    samp_of_index_p = p_vals[i]\n",
    "    diff_lab = unique_labels[unique_labels != lab_of_index]\n",
    "    not_lab_p1 = samp_of_index_p[diff_lab[0]]\n",
    "    not_lab_p2 = samp_of_index_p[diff_lab[1]]\n",
    "    false_p_vals[i] = (not_lab_p1 + not_lab_p2)/2\n",
    "\n",
    "# Find the avergae of all the false p values \n",
    "avg_false_p_value = np.mean(false_p_vals)\n",
    "\n",
    "print('The average false p_value is ' + str(avg_false_p_value) + '.')\n",
    "\n",
    "#The average false p_value is given as 0.0101304. The lowest possible false p value, where all 'false' labels are least \n",
    "#conforming is 1/(n + 1) = 1/(112 + 1) = 0.008850 where n is the sample size of xtrain. Give the average false p value is \n",
    "#near to the lowest possible p value we consider the model to fit the test data very well."
   ]
  },
  {
   "cell_type": "code",
   "execution_count": 24,
   "id": "453a564d",
   "metadata": {},
   "outputs": [
    {
     "name": "stdout",
     "output_type": "stream",
     "text": [
      "(263, 35)\n",
      "(88, 35)\n",
      "(263,)\n",
      "(88,)\n"
     ]
    }
   ],
   "source": [
    "#load in the ionosphere data and split\n",
    "X = np.genfromtxt(\"ionosphere.txt\", delimiter=\",\")\n",
    "y = np.genfromtxt(\"ionosphere.txt\", delimiter=\",\",\n",
    "usecols=34, dtype='int')\n",
    "X_train, X_test, y_train, y_test = train_test_split(X, y, random_state = 211)\n",
    "\n",
    "##Get the shapes of X_train, X_test, y_train and y_test. This will be useful information in latter analysis \n",
    "print(X_train.shape)\n",
    "print(X_test.shape)\n",
    "print(y_train.shape)\n",
    "print(y_test.shape)"
   ]
  },
  {
   "cell_type": "code",
   "execution_count": 16,
   "id": "129b647e",
   "metadata": {},
   "outputs": [
    {
     "name": "stdout",
     "output_type": "stream",
     "text": [
      "The error rate for the test set is 0.03409090909090906.\n"
     ]
    }
   ],
   "source": [
    "#Error rate for 1 nearest neighbour\n",
    "prediction = np.zeros(X_test.shape[0],dtype = int)\n",
    "for i in range(X_test.shape[0]):\n",
    "    prediction[i] = knn(X_test[i], X_train, y_train, 1)\n",
    "\n",
    "error_rate =  1 - np.mean(prediction == y_test)\n",
    "\n",
    "print('The error rate for the test set is ' + str(error_rate) + '.')\n",
    "### The error rate for the lest set is around 0.03409. This suggests that the model will make incorrect predictions on unseen\n",
    "## data approximatly 3.4% of the time. So, 3 labels were predicted incorrectly as 3/88 = 0.03408.\n",
    "## This suggests the 1NN model is a relativally good fit. "
   ]
  },
  {
   "cell_type": "code",
   "execution_count": 17,
   "id": "3dd4d19a",
   "metadata": {
    "scrolled": false
   },
   "outputs": [
    {
     "name": "stdout",
     "output_type": "stream",
     "text": [
      "[0.03409091 0.02272727 0.02272727 0.04545455 0.04545455 0.03409091\n",
      " 0.04545455 0.06818182 0.07954545 0.07954545]\n"
     ]
    }
   ],
   "source": [
    "#Error rates up to 10 nearest neighbours \n",
    "error_rate2 = np.zeros(10)\n",
    "    \n",
    "for j in range(error_rate2.size):\n",
    "    \n",
    "    prediction2 = np.zeros(X_test.shape[0],dtype = int)\n",
    "    \n",
    "    for i in range(X_test.shape[0]):\n",
    "        prediction2[i] = knn(X_test[i], X_train, y_train, j+1)\n",
    "\n",
    "    error_rate2[j] =  1 - np.mean(prediction2 == y_test)\n",
    "\n",
    "print(error_rate2)\n",
    "#Here unlike the iris data set we have p values for all k so an idea of the optimal k can be obtained. This will be done\n",
    "#via a plot in the next cell"
   ]
  },
  {
   "cell_type": "code",
   "execution_count": 19,
   "id": "704ea9f8",
   "metadata": {},
   "outputs": [
    {
     "data": {
      "text/plain": [
       "Text(0, 0.5, 'Error rate')"
      ]
     },
     "execution_count": 19,
     "metadata": {},
     "output_type": "execute_result"
    },
    {
     "data": {
      "image/png": "[encoded data removed]",
      "text/plain": [
       "<Figure size 432x288 with 1 Axes>"
      ]
     },
     "metadata": {
      "needs_background": "light"
     },
     "output_type": "display_data"
    }
   ],
   "source": [
    "import matplotlib.pyplot as plt\n",
    "plt.plot(np.arange(10)+1,error_rate2)\n",
    "plt.xlabel('Number of nearest neighbours')\n",
    "plt.ylabel('Error rate')\n",
    "\n",
    "#The Lowest error rate seems to occur in K = [2,3] suggestting that the optimal k is in that range. It most also be noted that\n",
    "#the plot dosen't contain a nice smooth U-shape expected. This is due to test set not being large enough to smoth out all the\n",
    "#'noise' in the data. So, the prediction for optimal K may not be entirely correct. To overcome this a lrager dataset and/or\n",
    "#cross validation should be used. "
   ]
  },
  {
   "cell_type": "code",
   "execution_count": 20,
   "id": "63fe1ead",
   "metadata": {
    "scrolled": true
   },
   "outputs": [
    {
     "name": "stdout",
     "output_type": "stream",
     "text": [
      "[0.10606060606060606, 0.007575757575757576]\n",
      "[0.003787878787878788, 0.4090909090909091]\n",
      "[0.25, 0.003787878787878788]\n",
      "[0.003787878787878788, 0.9545454545454546]\n",
      "[0.16666666666666666, 0.003787878787878788]\n",
      "[0.003787878787878788, 0.3712121212121212]\n",
      "[0.03409090909090909, 0.007575757575757576]\n",
      "[0.003787878787878788, 0.8712121212121212]\n",
      "[0.003787878787878788, 0.9734848484848485]\n",
      "[0.003787878787878788, 0.5795454545454546]\n",
      "[0.11742424242424243, 0.003787878787878788]\n",
      "[0.2765151515151515, 0.003787878787878788]\n",
      "[0.003787878787878788, 0.4734848484848485]\n",
      "[0.2727272727272727, 0.003787878787878788]\n",
      "[0.003787878787878788, 0.3939393939393939]\n",
      "[0.003787878787878788, 0.3560606060606061]\n",
      "[0.07954545454545454, 0.003787878787878788]\n",
      "[0.2727272727272727, 0.003787878787878788]\n",
      "[0.003787878787878788, 0.5454545454545454]\n",
      "[0.8257575757575758, 0.003787878787878788]\n",
      "[0.003787878787878788, 0.5454545454545454]\n",
      "[0.003787878787878788, 0.8068181818181818]\n",
      "[0.13636363636363635, 0.003787878787878788]\n",
      "[0.003787878787878788, 0.8068181818181818]\n",
      "[0.17045454545454544, 0.003787878787878788]\n",
      "[0.003787878787878788, 0.42424242424242425]\n",
      "[0.003787878787878788, 0.803030303030303]\n",
      "[0.2840909090909091, 0.003787878787878788]\n",
      "[0.003787878787878788, 0.3977272727272727]\n",
      "[0.003787878787878788, 0.8181818181818182]\n",
      "[0.2537878787878788, 0.003787878787878788]\n",
      "[0.003787878787878788, 0.928030303030303]\n",
      "[0.003787878787878788, 0.9507575757575758]\n",
      "[0.003787878787878788, 0.9166666666666666]\n",
      "[0.003787878787878788, 0.625]\n",
      "[0.003787878787878788, 0.04924242424242424]\n",
      "[0.29924242424242425, 0.003787878787878788]\n",
      "[0.1856060606060606, 0.003787878787878788]\n",
      "[0.11742424242424243, 0.003787878787878788]\n",
      "[0.003787878787878788, 0.5189393939393939]\n",
      "[0.003787878787878788, 0.7310606060606061]\n",
      "[0.20075757575757575, 0.003787878787878788]\n",
      "[0.003787878787878788, 0.8446969696969697]\n",
      "[0.003787878787878788, 0.803030303030303]\n",
      "[0.003787878787878788, 0.9507575757575758]\n",
      "[0.20075757575757575, 0.003787878787878788]\n",
      "[0.003787878787878788, 0.7348484848484849]\n",
      "[0.003787878787878788, 0.3181818181818182]\n",
      "[0.003787878787878788, 0.7537878787878788]\n",
      "[0.003787878787878788, 0.7803030303030303]\n",
      "[0.007575757575757576, 0.026515151515151516]\n",
      "[0.003787878787878788, 0.4053030303030303]\n",
      "[0.2537878787878788, 0.003787878787878788]\n",
      "[0.17045454545454544, 0.003787878787878788]\n",
      "[0.003787878787878788, 0.9696969696969697]\n",
      "[0.003787878787878788, 0.3106060606060606]\n",
      "[0.16666666666666666, 0.003787878787878788]\n",
      "[0.03787878787878788, 0.007575757575757576]\n",
      "[0.003787878787878788, 0.5454545454545454]\n",
      "[0.29924242424242425, 0.003787878787878788]\n",
      "[0.003787878787878788, 0.45075757575757575]\n",
      "[0.003787878787878788, 0.9015151515151515]\n",
      "[0.003787878787878788, 0.7386363636363636]\n",
      "[0.003787878787878788, 0.8522727272727273]\n",
      "[0.003787878787878788, 0.8484848484848485]\n",
      "[0.003787878787878788, 0.5681818181818182]\n",
      "[0.12121212121212122, 0.003787878787878788]\n",
      "[0.20075757575757575, 0.003787878787878788]\n",
      "[0.003787878787878788, 0.9545454545454546]\n",
      "[0.003787878787878788, 0.6893939393939394]\n",
      "[0.003787878787878788, 0.8068181818181818]\n",
      "[0.003787878787878788, 0.29545454545454547]\n",
      "[0.003787878787878788, 0.8939393939393939]\n",
      "[0.003787878787878788, 0.4393939393939394]\n",
      "[0.10606060606060606, 0.003787878787878788]\n",
      "[0.01893939393939394, 0.01893939393939394]\n",
      "[0.003787878787878788, 0.6439393939393939]\n",
      "[0.003787878787878788, 0.9090909090909091]\n",
      "[0.003787878787878788, 0.4734848484848485]\n",
      "[0.003787878787878788, 0.3560606060606061]\n",
      "[0.003787878787878788, 0.8143939393939394]\n",
      "[0.003787878787878788, 0.5492424242424242]\n",
      "[0.003787878787878788, 0.4393939393939394]\n",
      "[0.003787878787878788, 0.9242424242424242]\n",
      "[0.11363636363636363, 0.003787878787878788]\n",
      "[0.21212121212121213, 0.003787878787878788]\n",
      "[0.09848484848484848, 0.003787878787878788]\n",
      "[0.003787878787878788, 0.8560606060606061]\n",
      "306.3942856788635 seconds\n"
     ]
    }
   ],
   "source": [
    "#get p-values for the X_train set\n",
    "start = time.time()\n",
    "\n",
    "p_vals = list(np.zeros([X_test.shape[0]]))\n",
    "\n",
    "for i in range(len(p_vals)):\n",
    "    p_vals[i] = conformal_predictor(X_test[i], X_train, y_train)\n",
    "    print(p_vals[i])\n",
    "\n",
    "print(time.time() - start, 'seconds')\n",
    "###As can be seen from my output obtaining p values for all labels for all samples in X_test takes a long time (around 5mins). \n",
    "###This is understandable given the large number of features however there is likely still much room for efficency improvements."
   ]
  },
  {
   "cell_type": "code",
   "execution_count": 21,
   "id": "bb882a10",
   "metadata": {},
   "outputs": [
    {
     "name": "stdout",
     "output_type": "stream",
     "text": [
      "The average false p_value is 0.004863980716253442.\n"
     ]
    }
   ],
   "source": [
    "#Get false p-value \n",
    "unique_labels = np.unique(y_train)\n",
    "false_p_vals = np.zeros(y_test.size)\n",
    "\n",
    "for i in range(y_test.size):\n",
    "    lab_of_index = y_test[i]\n",
    "    samp_of_index_p = p_vals[i]\n",
    "    diff_lab = unique_labels[unique_labels != lab_of_index]\n",
    "    if diff_lab == -1:\n",
    "        false_p_vals[i] = samp_of_index_p[0]\n",
    "    else:\n",
    "        false_p_vals[i] = samp_of_index_p[1]\n",
    "\n",
    "avg_false_p_value = np.mean(false_p_vals)\n",
    "\n",
    "print('The average false p_value is ' + str(avg_false_p_value) + '.')\n",
    "\n",
    "#The average false p value is approximatly 0.004864. The lowest possible p value is 1/(n +1) = 1/(263 + 1) = 0.003788 (4sf). \n",
    "# Given the average false p value is near to lowest possible p value, the 1NN model can be seen as a good fit for the \n",
    "#ionoshpere dataset. "
   ]
  }
 ],
 "metadata": {
  "kernelspec": {
   "display_name": "Python 3 (ipykernel)",
   "language": "python",
   "name": "python3"
  },
  "language_info": {
   "codemirror_mode": {
    "name": "ipython",
    "version": 3
   },
   "file_extension": ".py",
   "mimetype": "text/x-python",
   "name": "python",
   "nbconvert_exporter": "python",
   "pygments_lexer": "ipython3",
   "version": "3.9.7"
  }
 },
 "nbformat": 4,
 "nbformat_minor": 5
}
